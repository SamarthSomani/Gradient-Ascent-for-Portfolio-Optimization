{
  "nbformat": 4,
  "nbformat_minor": 0,
  "metadata": {
    "colab": {
      "provenance": []
    },
    "kernelspec": {
      "name": "python3",
      "display_name": "Python 3"
    },
    "language_info": {
      "name": "python"
    }
  },
  "cells": [
    {
      "cell_type": "markdown",
      "source": [
        "Code to plot points using the deep-learning model and mean-variance model"
      ],
      "metadata": {
        "id": "cSTP2nEaVC8F"
      }
    },
    {
      "cell_type": "code",
      "execution_count": null,
      "metadata": {
        "id": "QvqwSPVGwjci"
      },
      "outputs": [],
      "source": [
        "import numpy as np\n",
        "\n",
        "# setting the seed allows for reproducible results\n",
        "np.random.seed(123)\n",
        "\n",
        "import tensorflow as tf\n",
        "from tensorflow.keras.layers import LSTM, Flatten, Dense\n",
        "from tensorflow.keras.models import Sequential\n",
        "import tensorflow.keras.backend as K\n",
        "from tensorflow.keras.optimizers import Adam\n",
        "\n",
        "import pandas as pd\n",
        "import matplotlib.pyplot as plt\n",
        "import math"
      ]
    },
    {
      "cell_type": "code",
      "source": [
        "import cvxopt\n",
        "from cvxopt import matrix, solvers"
      ],
      "metadata": {
        "id": "WnztVGgywufq"
      },
      "execution_count": null,
      "outputs": []
    },
    {
      "cell_type": "code",
      "source": [
        "class Model:\n",
        "    def __init__(self):\n",
        "        self.data = None\n",
        "        self.model = None\n",
        "        self.final_ratio = None\n",
        "\n",
        "    def sharpe_loss(self, _, y_pred):\n",
        "        # make all time-series start at 1\n",
        "        data = tf.divide(self.data, self.data[0])\n",
        "\n",
        "        # value of the portfolio after allocations applied\n",
        "        portfolio_values = tf.reduce_sum(tf.multiply(data, y_pred), axis=1)\n",
        "\n",
        "        portfolio_returns = (portfolio_values[1:] - portfolio_values[:-1]) / portfolio_values[:-1]  # % change formula\n",
        "\n",
        "        sharpe = K.mean(portfolio_returns) / K.std(portfolio_returns)\n",
        "\n",
        "        return -sharpe\n",
        "\n",
        "    def __build_model(self, input_shape, outputs, l_rate):\n",
        "\n",
        "        model = Sequential([\n",
        "            LSTM(64, input_shape=input_shape),\n",
        "            Flatten(),\n",
        "            Dense(outputs, activation='softmax')\n",
        "        ])\n",
        "\n",
        "        Opt = Adam(learning_rate = l_rate)\n",
        "        model.compile(loss=self.sharpe_loss, optimizer=Opt)\n",
        "        return model\n",
        "\n",
        "    def get_allocations(self, data: pd.DataFrame, lr=0.001, ep=20):\n",
        "\n",
        "        # data with returns\n",
        "        data_w_ret = np.concatenate([ data.values[1:], data.pct_change().values[1:] ], axis=1)\n",
        "\n",
        "        data = data.iloc[1:]\n",
        "        self.data = tf.cast(tf.constant(data), float)\n",
        "\n",
        "        if self.model is None:\n",
        "            self.model = self.__build_model(data_w_ret.shape, len(data.columns), l_rate = lr)\n",
        "\n",
        "        fit_predict_data = data_w_ret[np.newaxis,:]\n",
        "        history = self.model.fit(fit_predict_data, np.zeros((1, len(data.columns))), epochs=ep, shuffle=False)\n",
        "        self.final_ratio = -history.history['loss'][-1]\n",
        "\n",
        "        return self.model.predict(fit_predict_data)[0]"
      ],
      "metadata": {
        "id": "IsCNID2ewxUU"
      },
      "execution_count": null,
      "outputs": []
    },
    {
      "cell_type": "markdown",
      "source": [
        "Upload a csv file containing the data of assets. The data should be in the format such that it contains price of the asset on given date.\n",
        "If there are n companies and k days of data, then it should have k rows and n columns."
      ],
      "metadata": {
        "id": "xq469EYoUexm"
      }
    },
    {
      "cell_type": "code",
      "source": [
        "df = pd.read_csv('/content/drive/MyDrive/OMF_data_final/uploaded_data_2/Dataset_2_csv.csv')"
      ],
      "metadata": {
        "id": "p35A39osw0Rj"
      },
      "execution_count": null,
      "outputs": []
    },
    {
      "cell_type": "code",
      "source": [
        "df = df[df.columns[1:]]"
      ],
      "metadata": {
        "id": "atRU7HZnw28N"
      },
      "execution_count": null,
      "outputs": []
    },
    {
      "cell_type": "code",
      "source": [
        "window = 30\n",
        "num_days = len(df.index)\n",
        "num_companies = df.columns.size\n",
        "total_rows = num_days - window + 1"
      ],
      "metadata": {
        "id": "17jQM3QBw5OS"
      },
      "execution_count": null,
      "outputs": []
    },
    {
      "cell_type": "code",
      "source": [
        "num_epochs = 10 # Change it to number of epochs needed\n",
        "T = []\n",
        "learning_rates = []"
      ],
      "metadata": {
        "id": "NdSuJ8dMw-C5"
      },
      "execution_count": null,
      "outputs": []
    },
    {
      "cell_type": "code",
      "source": [
        "model_return = []\n",
        "model_risk = []\n",
        "mkw_return = []\n",
        "mkw_risk = []"
      ],
      "metadata": {
        "id": "1v88p6JcxBmv"
      },
      "execution_count": null,
      "outputs": []
    },
    {
      "cell_type": "code",
      "source": [
        "lr = 0.1 # Put the learning rate required"
      ],
      "metadata": {
        "id": "8LL9QV6sxFA-"
      },
      "execution_count": null,
      "outputs": []
    },
    {
      "cell_type": "code",
      "source": [
        "for itr in range(total_rows):\n",
        "  tempdf = df.iloc[itr:itr+window]\n",
        "  temparr = tempdf.to_numpy()\n",
        "  return_rate = (temparr[:-1] - temparr[1:])/temparr[1:]\n",
        "  exp_return = np.mean(return_rate,axis=0)\n",
        "  temp_cov = np.transpose(return_rate) @ return_rate\n",
        "  temp_cov = temp_cov/(window-1)\n",
        "\n",
        "  m = Model()\n",
        "  w = m.get_allocations(tempdf,lr,num_epochs)\n",
        "  model_return.append(np.dot(w,exp_return))\n",
        "  temp_model_risk = np.transpose(w) @ temp_cov @ w\n",
        "  temp_model_risk = math.sqrt(temp_model_risk)\n",
        "  model_risk.append(temp_model_risk)"
      ],
      "metadata": {
        "id": "6G_MJjebxGmr"
      },
      "execution_count": null,
      "outputs": []
    },
    {
      "cell_type": "code",
      "source": [
        "for itr in range(total_rows):\n",
        "  tempdf = df.iloc[itr:itr+window]\n",
        "  temparr = tempdf.to_numpy()\n",
        "  return_rate = (temparr[:-1] - temparr[1:])/temparr[1:]\n",
        "  exp_return = np.mean(return_rate,axis=0)\n",
        "  temp_cov = np.transpose(return_rate) @ return_rate\n",
        "  temp_cov = temp_cov/(window-1)\n",
        "\n",
        "  e = np.ones(num_companies)\n",
        "\n",
        "  R = model_return[itr]\n",
        "\n",
        "  P = matrix(2*temp_cov)\n",
        "  q = matrix(np.zeros(num_companies))\n",
        "\n",
        "  A = matrix(np.array([e, exp_return]))\n",
        "  b = matrix(np.array([1,R]))\n",
        "\n",
        "  G = matrix(-np.eye(num_companies))\n",
        "  h = matrix(np.zeros(num_companies))\n",
        "  sol = solvers.qp(P, q, G=G, h=h, A=A, b=b)\n",
        "\n",
        "  wmw = np.array(sol['x'])\n",
        "  mkw_return.append(R)\n",
        "  mkw_risk.append(math.sqrt(sol['primal objective']))"
      ],
      "metadata": {
        "id": "DmYQRJhaxMn7"
      },
      "execution_count": null,
      "outputs": []
    },
    {
      "cell_type": "code",
      "source": [
        "tsum = 0\n",
        "for i in range(len(model_return)):\n",
        "  tval = (model_risk[i] - mkw_risk[i])/abs(model_return[i])\n",
        "  tsum += tval\n",
        "\n",
        "tsum /= len(model_return)\n",
        "# tsum stores the value of the learning rate's comparision parameter\n",
        "T.append(tsum)\n",
        "learning_rates.append(lr)"
      ],
      "metadata": {
        "id": "SISWU_kuxSnX"
      },
      "execution_count": null,
      "outputs": []
    },
    {
      "cell_type": "code",
      "source": [
        "plt.plot(model_risk,model_return,'o',color='r',label='Model')\n",
        "plt.plot(mkw_risk, mkw_return,'o',color='b',label='Markowitz')\n",
        "plt.xlabel('Risk')\n",
        "plt.ylabel('Return')\n",
        "plt.legend()\n",
        "plt.show()"
      ],
      "metadata": {
        "colab": {
          "base_uri": "https://localhost:8080/",
          "height": 449
        },
        "id": "T8H8ufHNGqWq",
        "outputId": "9f111380-c30b-4d48-ed5b-d4f2862bafe5"
      },
      "execution_count": null,
      "outputs": [
        {
          "output_type": "display_data",
          "data": {
            "text/plain": [
              "<Figure size 640x480 with 1 Axes>"
            ],
            "image/png": "[encoded data removed]"
          },
          "metadata": {}
        }
      ]
    },
    {
      "cell_type": "code",
      "source": [
        "# T"
      ],
      "metadata": {
        "id": "gtIOfGkKxXYc"
      },
      "execution_count": null,
      "outputs": []
    },
    {
      "cell_type": "code",
      "source": [
        "# learning_rates"
      ],
      "metadata": {
        "id": "POI6AEiMxYsp"
      },
      "execution_count": null,
      "outputs": []
    }
  ]
}